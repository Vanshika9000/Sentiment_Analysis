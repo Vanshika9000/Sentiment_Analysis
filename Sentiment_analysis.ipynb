{
  "nbformat": 4,
  "nbformat_minor": 0,
  "metadata": {
    "colab": {
      "name": "Sentiment_analysis.ipynb",
      "provenance": [],
      "collapsed_sections": [],
      "toc_visible": true,
      "authorship_tag": "ABX9TyPsRSwQEu5YEV1ooGtK12Q+"
    },
    "kernelspec": {
      "name": "python3",
      "display_name": "Python 3"
    },
    "accelerator": "GPU"
  },
  "cells": [
    {
      "cell_type": "code",
      "metadata": {
        "id": "tkX96KS225NK",
        "colab_type": "code",
        "colab": {}
      },
      "source": [
        "from google.colab import drive\n",
        "drive.mount('/content/drive/')"
      ],
      "execution_count": null,
      "outputs": []
    },
    {
      "cell_type": "code",
      "metadata": {
        "id": "vk6HjlDu4yYC",
        "colab_type": "code",
        "colab": {}
      },
      "source": [
        "train_dataset_zip = '/content/drive/My Drive/movie dataset/train.tsv.zip'"
      ],
      "execution_count": null,
      "outputs": []
    },
    {
      "cell_type": "code",
      "metadata": {
        "id": "b8pBYwxa51BU",
        "colab_type": "code",
        "colab": {
          "base_uri": "https://localhost:8080/",
          "height": 51
        },
        "outputId": "c147f3ca-7dbe-41a5-c490-d6302f3d0698"
      },
      "source": [
        "!unzip '/content/drive/My Drive/movie dataset/train.tsv.zip'"
      ],
      "execution_count": null,
      "outputs": [
        {
          "output_type": "stream",
          "text": [
            "Archive:  /content/drive/My Drive/movie dataset/train.tsv.zip\n",
            "  inflating: train.tsv               \n"
          ],
          "name": "stdout"
        }
      ]
    },
    {
      "cell_type": "markdown",
      "metadata": {
        "id": "4szcdsa3br5B",
        "colab_type": "text"
      },
      "source": [
        "# Step 1 --> Load dataset"
      ]
    },
    {
      "cell_type": "markdown",
      "metadata": {
        "id": "mTpoz2_ybh_K",
        "colab_type": "text"
      },
      "source": [
        ""
      ]
    },
    {
      "cell_type": "code",
      "metadata": {
        "id": "CdB2VRs66-Gf",
        "colab_type": "code",
        "colab": {}
      },
      "source": [
        "import pandas as pd\n"
      ],
      "execution_count": null,
      "outputs": []
    },
    {
      "cell_type": "code",
      "metadata": {
        "id": "MDCb_6Sp66iH",
        "colab_type": "code",
        "colab": {
          "base_uri": "https://localhost:8080/",
          "height": 204
        },
        "outputId": "71a9a6ee-a216-4257-a6e7-8361724a77bb"
      },
      "source": [
        "train_dataset = pd.read_csv('/content/train.tsv',sep = '\\t')\n",
        "\n",
        "train_dataset.head(5)\n"
      ],
      "execution_count": null,
      "outputs": [
        {
          "output_type": "execute_result",
          "data": {
            "text/html": [
              "<div>\n",
              "<style scoped>\n",
              "    .dataframe tbody tr th:only-of-type {\n",
              "        vertical-align: middle;\n",
              "    }\n",
              "\n",
              "    .dataframe tbody tr th {\n",
              "        vertical-align: top;\n",
              "    }\n",
              "\n",
              "    .dataframe thead th {\n",
              "        text-align: right;\n",
              "    }\n",
              "</style>\n",
              "<table border=\"1\" class=\"dataframe\">\n",
              "  <thead>\n",
              "    <tr style=\"text-align: right;\">\n",
              "      <th></th>\n",
              "      <th>PhraseId</th>\n",
              "      <th>SentenceId</th>\n",
              "      <th>Phrase</th>\n",
              "      <th>Sentiment</th>\n",
              "    </tr>\n",
              "  </thead>\n",
              "  <tbody>\n",
              "    <tr>\n",
              "      <th>0</th>\n",
              "      <td>1</td>\n",
              "      <td>1</td>\n",
              "      <td>A series of escapades demonstrating the adage ...</td>\n",
              "      <td>1</td>\n",
              "    </tr>\n",
              "    <tr>\n",
              "      <th>1</th>\n",
              "      <td>2</td>\n",
              "      <td>1</td>\n",
              "      <td>A series of escapades demonstrating the adage ...</td>\n",
              "      <td>2</td>\n",
              "    </tr>\n",
              "    <tr>\n",
              "      <th>2</th>\n",
              "      <td>3</td>\n",
              "      <td>1</td>\n",
              "      <td>A series</td>\n",
              "      <td>2</td>\n",
              "    </tr>\n",
              "    <tr>\n",
              "      <th>3</th>\n",
              "      <td>4</td>\n",
              "      <td>1</td>\n",
              "      <td>A</td>\n",
              "      <td>2</td>\n",
              "    </tr>\n",
              "    <tr>\n",
              "      <th>4</th>\n",
              "      <td>5</td>\n",
              "      <td>1</td>\n",
              "      <td>series</td>\n",
              "      <td>2</td>\n",
              "    </tr>\n",
              "  </tbody>\n",
              "</table>\n",
              "</div>"
            ],
            "text/plain": [
              "   PhraseId  ...  Sentiment\n",
              "0         1  ...          1\n",
              "1         2  ...          2\n",
              "2         3  ...          2\n",
              "3         4  ...          2\n",
              "4         5  ...          2\n",
              "\n",
              "[5 rows x 4 columns]"
            ]
          },
          "metadata": {
            "tags": []
          },
          "execution_count": 7
        }
      ]
    },
    {
      "cell_type": "markdown",
      "metadata": {
        "id": "SvMwq3rcb4Ep",
        "colab_type": "text"
      },
      "source": [
        "# Cleaning text , tokenize it and lemmatize"
      ]
    },
    {
      "cell_type": "code",
      "metadata": {
        "id": "Z-I_yUcR7dFT",
        "colab_type": "code",
        "colab": {
          "base_uri": "https://localhost:8080/",
          "height": 119
        },
        "outputId": "5dbddbbb-13c0-4be5-9c27-2c3a872707c0"
      },
      "source": [
        "from tqdm import tqdm\n",
        "import nltk\n",
        "from nltk.tokenize import word_tokenize\n",
        "from nltk.stem import WordNetLemmatizer\n",
        "lemmatizer = WordNetLemmatizer()\n",
        "import re\n",
        "nltk.download('punkt')\n",
        "nltk.download('wordnet')\n",
        "nltk.download('stopwords')\n",
        "from nltk.corpus import stopwords\n"
      ],
      "execution_count": null,
      "outputs": [
        {
          "output_type": "stream",
          "text": [
            "[nltk_data] Downloading package punkt to /root/nltk_data...\n",
            "[nltk_data]   Unzipping tokenizers/punkt.zip.\n",
            "[nltk_data] Downloading package wordnet to /root/nltk_data...\n",
            "[nltk_data]   Unzipping corpora/wordnet.zip.\n",
            "[nltk_data] Downloading package stopwords to /root/nltk_data...\n",
            "[nltk_data]   Unzipping corpora/stopwords.zip.\n"
          ],
          "name": "stdout"
        }
      ]
    },
    {
      "cell_type": "code",
      "metadata": {
        "id": "vmDgNoc5M0a0",
        "colab_type": "code",
        "colab": {
          "base_uri": "https://localhost:8080/",
          "height": 34
        },
        "outputId": "0b064cc3-0490-4008-f2e9-2f0c96993793"
      },
      "source": [
        "text = []\n",
        "\n",
        "for sent in tqdm(train_dataset['Phrase']):\n",
        "   # remove non_alphabetic character\n",
        "\n",
        "   clean_sent = re.sub('[^a-zA-Z]',\" \",sent)\n",
        "\n",
        "   # tokenize sentence\n",
        "\n",
        "   token_sent = word_tokenize(clean_sent.lower())\n",
        "\n",
        "   # lemmatize the text\n",
        "\n",
        "   lemma = [lemmatizer.lemmatize(w) for w in token_sent if not w in stopwords.words('english') or w ==\"not\" or w==\"no\"]\n",
        "   text.append(lemma)\n",
        "\n"
      ],
      "execution_count": null,
      "outputs": [
        {
          "output_type": "stream",
          "text": [
            "100%|██████████| 156060/156060 [03:02<00:00, 857.10it/s]\n"
          ],
          "name": "stderr"
        }
      ]
    },
    {
      "cell_type": "markdown",
      "metadata": {
        "id": "m8flARe6l29Y",
        "colab_type": "text"
      },
      "source": [
        "# Convert target into category"
      ]
    },
    {
      "cell_type": "code",
      "metadata": {
        "id": "QwGu_BBFmgE-",
        "colab_type": "code",
        "colab": {
          "base_uri": "https://localhost:8080/",
          "height": 34
        },
        "outputId": "e803334a-699e-4f17-c248-1324e3097028"
      },
      "source": [
        "from keras.utils import to_categorical"
      ],
      "execution_count": null,
      "outputs": [
        {
          "output_type": "stream",
          "text": [
            "Using TensorFlow backend.\n"
          ],
          "name": "stderr"
        }
      ]
    },
    {
      "cell_type": "code",
      "metadata": {
        "id": "F_B53Rx2gbP6",
        "colab_type": "code",
        "colab": {}
      },
      "source": [
        "target = train_dataset['Sentiment']\n",
        "y_target = to_categorical(target)\n",
        "num_classes = y_target.shape[1]\n"
      ],
      "execution_count": null,
      "outputs": []
    },
    {
      "cell_type": "markdown",
      "metadata": {
        "id": "vkNNgryznIo1",
        "colab_type": "text"
      },
      "source": [
        "# getting the num of unique words and maximum length "
      ]
    },
    {
      "cell_type": "code",
      "metadata": {
        "id": "plAV64Hugklv",
        "colab_type": "code",
        "colab": {
          "base_uri": "https://localhost:8080/",
          "height": 68
        },
        "outputId": "80407926-f7ec-4d11-b534-c72d5695f2be"
      },
      "source": [
        "unique_word = set()\n",
        "max_len = 0\n",
        "for sent in tqdm(text):\n",
        "  unique_word.update(sent)\n",
        "\n",
        "  if len(sent)>max_len:\n",
        "    max_len = len(sent)\n",
        "\n",
        "print(f\"maximum length {max_len}\")\n",
        "print(f\"length of unique words {len(list(unique_word))}\")    \n",
        "\n",
        "\n"
      ],
      "execution_count": null,
      "outputs": [
        {
          "output_type": "stream",
          "text": [
            "100%|██████████| 156060/156060 [00:00<00:00, 1143052.12it/s]"
          ],
          "name": "stderr"
        },
        {
          "output_type": "stream",
          "text": [
            "maximum length 30\n",
            "length of unique words 13627\n"
          ],
          "name": "stdout"
        },
        {
          "output_type": "stream",
          "text": [
            "\n"
          ],
          "name": "stderr"
        }
      ]
    },
    {
      "cell_type": "markdown",
      "metadata": {
        "id": "9F9JzBTUp00p",
        "colab_type": "text"
      },
      "source": [
        "# split train_dataset into train and validation_set"
      ]
    },
    {
      "cell_type": "code",
      "metadata": {
        "id": "uU7HOHl7ovMp",
        "colab_type": "code",
        "colab": {}
      },
      "source": [
        "from sklearn.model_selection import train_test_split"
      ],
      "execution_count": null,
      "outputs": []
    },
    {
      "cell_type": "code",
      "metadata": {
        "id": "Mp1qURhMqLLn",
        "colab_type": "code",
        "colab": {}
      },
      "source": [
        "X_train,X_val,Y_train,Y_val = train_test_split(text,y_target,test_size=.2,stratify=y_target,random_state = 2)"
      ],
      "execution_count": null,
      "outputs": []
    },
    {
      "cell_type": "markdown",
      "metadata": {
        "id": "pIO0z5vqrPOE",
        "colab_type": "text"
      },
      "source": [
        "# Convert text into Sequence and use padding on sequence"
      ]
    },
    {
      "cell_type": "code",
      "metadata": {
        "id": "KiMKTQ33qrU6",
        "colab_type": "code",
        "colab": {}
      },
      "source": [
        "from keras.preprocessing import sequence\n",
        "from keras.preprocessing.text import Tokenizer\n"
      ],
      "execution_count": null,
      "outputs": []
    },
    {
      "cell_type": "code",
      "metadata": {
        "id": "hkFAD3aqrwEZ",
        "colab_type": "code",
        "colab": {}
      },
      "source": [
        "tokenizer = Tokenizer(num_words=len(list(unique_word)))\n",
        "\n",
        "tokenizer.fit_on_texts(list(X_train))\n",
        "\n",
        "X_train = tokenizer.texts_to_sequences(X_train)\n",
        "X_val = tokenizer.texts_to_sequences(X_val)\n",
        "\n",
        "# padding \n",
        "\n",
        "X_train = sequence.pad_sequences(X_train,maxlen = max_len)\n",
        "X_val = sequence.pad_sequences(X_val,maxlen = max_len)\n"
      ],
      "execution_count": null,
      "outputs": []
    },
    {
      "cell_type": "markdown",
      "metadata": {
        "id": "mtZpwtOg7UnQ",
        "colab_type": "text"
      },
      "source": [
        "# Create the model"
      ]
    },
    {
      "cell_type": "code",
      "metadata": {
        "id": "g-_tUakZxzKf",
        "colab_type": "code",
        "colab": {}
      },
      "source": [
        "from keras.layers import Dense , Dropout , Embedding , LSTM\n",
        "\n",
        "from keras.models import Sequential\n",
        "\n",
        "from keras.optimizers import Adam"
      ],
      "execution_count": null,
      "outputs": []
    },
    {
      "cell_type": "code",
      "metadata": {
        "id": "rvdeSv0ux4E9",
        "colab_type": "code",
        "colab": {}
      },
      "source": [
        "model = Sequential()\n",
        "\n",
        "model.add(Embedding(len(list(unique_word)),300,input_length = max_len))\n",
        "\n",
        "model.add(LSTM(128,dropout=.5,return_sequences=True))\n",
        "\n",
        "model.add(LSTM(64,dropout=.5,return_sequences=False))\n",
        "\n",
        "model.add(Dense(100,activation='relu'))\n",
        "\n",
        "model.add(Dropout(0.5))\n",
        "\n",
        "model.add(Dense(num_classes , activation='softmax'))\n",
        "\n",
        "model.compile(loss = 'categorical_crossentropy',optimizer=Adam(lr=.001),metrics=['accuracy'])"
      ],
      "execution_count": null,
      "outputs": []
    },
    {
      "cell_type": "markdown",
      "metadata": {
        "id": "DX-CwcIi_g8R",
        "colab_type": "text"
      },
      "source": [
        "# fit model"
      ]
    },
    {
      "cell_type": "code",
      "metadata": {
        "id": "AinrscoT8JUL",
        "colab_type": "code",
        "colab": {}
      },
      "source": [
        "\n",
        "model.fit(X_train,Y_train,validation_data=(X_val,Y_val),epochs=6,batch_size=256,verbose=2)"
      ],
      "execution_count": null,
      "outputs": []
    },
    {
      "cell_type": "code",
      "metadata": {
        "id": "t6om-q3Km_pe",
        "colab_type": "code",
        "colab": {}
      },
      "source": [
        ""
      ],
      "execution_count": null,
      "outputs": []
    }
  ]
}